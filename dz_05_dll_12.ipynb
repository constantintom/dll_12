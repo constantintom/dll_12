{
 "cells": [
  {
   "cell_type": "markdown",
   "id": "514dbae0",
   "metadata": {},
   "source": [
    "## Домашнее задание к лекции \"Рекуррентные сети\" "
   ]
  },
  {
   "cell_type": "markdown",
   "id": "52137759",
   "metadata": {},
   "source": [
    " \n",
    "### Задание 1.\n",
    "#### Обучите нейронную сеть решать шифр цезаря.\n",
    "##### Что надо сделать:\n",
    "* 1.Написать алгоритм шифра Цезаря для генерации выборки (сдвиг на К каждой буквы. Например, при сдвиге на 2 буква “А” переходит в букву “В” и тп)\n",
    "* 2.Сделать нейронную сеть\n",
    "* 3.Обучить ее (вход - зашифрованная фраза, выход - дешифрованная фраза)\n",
    "* 4.Проверить качество"
   ]
  },
  {
   "cell_type": "code",
   "execution_count": 1,
   "id": "0309143e",
   "metadata": {},
   "outputs": [],
   "source": [
    "import torch\n",
    "from torch import nn as nn\n",
    "import pandas as pd\n",
    "import numpy as np\n",
    "import time"
   ]
  },
  {
   "cell_type": "code",
   "execution_count": 2,
   "id": "319ebbe1",
   "metadata": {},
   "outputs": [
    {
     "name": "stdout",
     "output_type": "stream",
     "text": [
      "Using cpu device\n"
     ]
    }
   ],
   "source": [
    "device = \"cuda\" if torch.cuda.is_available() else \"cpu\"\n",
    "print(f\"Using {device} device\")"
   ]
  },
  {
   "cell_type": "code",
   "execution_count": 3,
   "id": "fdde5a77",
   "metadata": {},
   "outputs": [],
   "source": [
    "CHAR = 'абвгдеёжзийклмнопрстуфхцчшщъыьэюяАБВГДЕЁЖЗИЙКЛМНОПРСТУФХЦЧШЩЪЫЬЭЮЯ'\n",
    "INDEX_TO_CHAR = ['none'] + [w for w in CHAR]\n",
    "CHAR_TO_INDEX = {w: i for i, w in enumerate(INDEX_TO_CHAR)}"
   ]
  },
  {
   "cell_type": "code",
   "execution_count": 43,
   "id": "1542ba88",
   "metadata": {},
   "outputs": [
    {
     "name": "stdout",
     "output_type": "stream",
     "text": [
      "['К', 'л', 'а', 'с', 'с', 'и', 'к', 'а', 'д', 'л', 'я', 'ш', 'к', 'о', 'л', 'ь', 'н', 'и', 'к', 'о', 'в']\n"
     ]
    }
   ],
   "source": [
    "text = pd.read_csv('onegin.txt', sep=\"\\s*\\|\\s*\", skiprows=[1], engine='python').dropna(how=\"all\", axis=1)  \n",
    "phrases = text['Евгений Онегин'].tolist()\n",
    "text_ = [i for i in phrases]\n",
    "text_train = []\n",
    "for k in text_:  \n",
    "    text_train += k\n",
    "\n",
    "text_train = [k for k in text_train if k in INDEX_TO_CHAR]\n",
    "print(text_train[:21])\n"
   ]
  },
  {
   "cell_type": "code",
   "execution_count": 44,
   "id": "e05da635",
   "metadata": {},
   "outputs": [
    {
     "data": {
      "text/plain": [
       "torch.Size([31345])"
      ]
     },
     "execution_count": 44,
     "metadata": {},
     "output_type": "execute_result"
    }
   ],
   "source": [
    "MAX_LEN = 35\n",
    "Y = torch.zeros((len(text_train)), dtype=int)\n",
    "Y.shape"
   ]
  },
  {
   "cell_type": "code",
   "execution_count": 45,
   "id": "6593bc13",
   "metadata": {},
   "outputs": [
    {
     "data": {
      "text/plain": [
       "tensor([45, 13,  1,  ..., 13,  1, 20])"
      ]
     },
     "execution_count": 45,
     "metadata": {},
     "output_type": "execute_result"
    }
   ],
   "source": [
    "for i in range(len(text_train)):\n",
    "    for j, w in enumerate(text_train[i]):\n",
    "        # if j >= MAX_LEN:\n",
    "        #     break       \n",
    "        Y[i] = CHAR_TO_INDEX.get(w, CHAR_TO_INDEX['none'])\n",
    "Y"
   ]
  },
  {
   "cell_type": "code",
   "execution_count": 46,
   "id": "77ef2638",
   "metadata": {},
   "outputs": [
    {
     "data": {
      "text/plain": [
       "torch.Size([31345])"
      ]
     },
     "execution_count": 46,
     "metadata": {},
     "output_type": "execute_result"
    }
   ],
   "source": [
    "Y.shape"
   ]
  },
  {
   "cell_type": "code",
   "execution_count": 47,
   "id": "9be6a614",
   "metadata": {},
   "outputs": [
    {
     "data": {
      "text/plain": [
       "tensor([48, 16,  4,  ..., 16,  4, 23])"
      ]
     },
     "execution_count": 47,
     "metadata": {},
     "output_type": "execute_result"
    }
   ],
   "source": [
    "# Сдвигаем на К = 3\n",
    "\n",
    "X = Y.clone()\n",
    "for j in range(X.shape[0]):    \n",
    "        w = Y[j]\n",
    "        if w != 0:  \n",
    "            X[j] =  X[j] + 3\n",
    "            if X[j] > 66:\n",
    "                X[j] = X[j] - 66\n",
    "X"
   ]
  },
  {
   "cell_type": "code",
   "execution_count": 48,
   "id": "70f01628",
   "metadata": {},
   "outputs": [
    {
     "data": {
      "text/plain": [
       "torch.Size([31345])"
      ]
     },
     "execution_count": 48,
     "metadata": {},
     "output_type": "execute_result"
    }
   ],
   "source": [
    "X.shape"
   ]
  },
  {
   "cell_type": "code",
   "execution_count": 50,
   "id": "99c8a8fe",
   "metadata": {},
   "outputs": [],
   "source": [
    "sentence = X[:21]\n",
    "X = X[21:]"
   ]
  },
  {
   "cell_type": "code",
   "execution_count": 84,
   "id": "e2664ecd",
   "metadata": {},
   "outputs": [
    {
     "data": {
      "text/plain": [
       "torch.Tensor"
      ]
     },
     "execution_count": 84,
     "metadata": {},
     "output_type": "execute_result"
    }
   ],
   "source": [
    "type(sentence)"
   ]
  },
  {
   "cell_type": "code",
   "execution_count": 79,
   "id": "f36698c1",
   "metadata": {},
   "outputs": [],
   "source": [
    "class Network(torch.nn.Module):\n",
    "    def __init__ (self):\n",
    "        super(Network, self).__init__()\n",
    "        self.embed = torch.nn.Embedding(len(X), 67)        \n",
    "        self.rnn = torch.nn.RNN(67, 128)\n",
    "        self.linear = nn.Linear(128, 67)\n",
    "    def forward(self, X, state = None):\n",
    "        embed = self.embed(X).view(1, len(X), 67)        \n",
    "        o, s = self.rnn(embed)\n",
    "        out = self.linear(o)\n",
    "        return out"
   ]
  },
  {
   "cell_type": "code",
   "execution_count": 80,
   "id": "04c89ecf",
   "metadata": {},
   "outputs": [],
   "source": [
    "model = Network()"
   ]
  },
  {
   "cell_type": "code",
   "execution_count": 81,
   "id": "ba91ee19",
   "metadata": {},
   "outputs": [],
   "source": [
    "criterion = torch.nn.CrossEntropyLoss()\n",
    "optimizer = torch.optim.SGD(model.parameters(), lr=0.5)"
   ]
  },
  {
   "cell_type": "code",
   "execution_count": 88,
   "id": "25a42301",
   "metadata": {},
   "outputs": [],
   "source": [
    "def generate_sentence(sentence = sentence):\n",
    "    sentence = sentence\n",
    "#     print(torch.tensor(sentence).view(1, 21, 1).shape)\n",
    "    # sentence = [CHAR_TO_INDEX.get(s, 0) for s in sentence]    \n",
    "    answers = model.forward(sentence)\n",
    "    probas, indices = answers.topk(1)\n",
    "    return \" \".join([INDEX_TO_CHAR[ind.item()] for ind in indices.flatten()])"
   ]
  },
  {
   "cell_type": "code",
   "execution_count": 89,
   "id": "c54a620a",
   "metadata": {},
   "outputs": [
    {
     "data": {
      "text/plain": [
       "'Б ё Р п п м Щ Р х ё Я б Щ с ё б ф м Щ с б'"
      ]
     },
     "execution_count": 89,
     "metadata": {},
     "output_type": "execute_result"
    }
   ],
   "source": [
    "generate_sentence()"
   ]
  },
  {
   "cell_type": "code",
   "execution_count": 96,
   "id": "8ba3a4ef",
   "metadata": {},
   "outputs": [
    {
     "name": "stdout",
     "output_type": "stream",
     "text": [
      "nEpoch 0. Time: 7.714, Train loss: 0.001\n",
      "К л а с с и к а д л я ш к о л ь н и к о в\n",
      "Epoch 4, loss: 0.000nEpoch 5. Time: 8.200, Train loss: 0.000\n",
      "К л а с с и к а д л я ш к о л ь н и к о в\n",
      "Epoch 9, loss: 0.000nEpoch 10. Time: 7.822, Train loss: 0.000\n",
      "К л а с с и к а д л я ш к о л ь н и к о в\n"
     ]
    }
   ],
   "source": [
    "for ep in range(11):\n",
    "    start = time.time()\n",
    "    train_loss = 0.\n",
    "    train_passed = 0   \n",
    "\n",
    "    for i in range(int(len(X) / 100)):\n",
    "        X_batch = X[i * 100:(i + 1) * 100]\n",
    "    \n",
    "        # X_batch = batch[:, :-1]\n",
    "        embeding = nn.Embedding(len(X), 67)\n",
    "        Y_batch = Y[21:][i * 100:(i + 1) * 100] #batch[:, 1:].flatten()\n",
    "        \n",
    "        \n",
    "        optimizer.zero_grad()\n",
    "        answers = model.forward(X_batch)\n",
    "        answers = answers.view(-1, len(INDEX_TO_CHAR))\n",
    "        \n",
    "        loss = criterion(answers, Y_batch)\n",
    "        train_loss += loss.item()\n",
    "\n",
    "        loss.backward()\n",
    "        optimizer.step()\n",
    "        train_passed += 1       \n",
    "        \n",
    "\n",
    "    if ep%5 == 0:\n",
    "        print(\"nEpoch {}. Time: {:.3f}, Train loss: {:.3f}\".format(ep, time.time() - start, train_loss / train_passed))\n",
    "        s = generate_sentence()\n",
    "        print(s)\n",
    "    else:\n",
    "        print(f\"\\rEpoch {ep}, loss: {train_loss / train_passed:.3f}\", end='')    "
   ]
  },
  {
   "cell_type": "code",
   "execution_count": null,
   "id": "980556d9",
   "metadata": {},
   "outputs": [],
   "source": []
  },
  {
   "cell_type": "markdown",
   "id": "35acc477",
   "metadata": {},
   "source": [
    "#### Задание 2.\n",
    "##### Выполнить практическую работу из лекционного ноутбука.\n",
    "* а) построить RNN-ячейку на основе полносвязных слоев\n",
    "* б) применить построенную ячейку для генерации текста с выражениями героев сериала “Симпсоны”"
   ]
  },
  {
   "cell_type": "code",
   "execution_count": 97,
   "id": "7f9e6b98",
   "metadata": {},
   "outputs": [
    {
     "data": {
      "text/html": [
       "<div>\n",
       "<style scoped>\n",
       "    .dataframe tbody tr th:only-of-type {\n",
       "        vertical-align: middle;\n",
       "    }\n",
       "\n",
       "    .dataframe tbody tr th {\n",
       "        vertical-align: top;\n",
       "    }\n",
       "\n",
       "    .dataframe thead th {\n",
       "        text-align: right;\n",
       "    }\n",
       "</style>\n",
       "<table border=\"1\" class=\"dataframe\">\n",
       "  <thead>\n",
       "    <tr style=\"text-align: right;\">\n",
       "      <th></th>\n",
       "      <th>Unnamed: 0</th>\n",
       "      <th>id</th>\n",
       "      <th>episode_id</th>\n",
       "      <th>number</th>\n",
       "      <th>raw_text</th>\n",
       "      <th>timestamp_in_ms</th>\n",
       "      <th>speaking_line</th>\n",
       "      <th>character_id</th>\n",
       "      <th>location_id</th>\n",
       "      <th>raw_character_text</th>\n",
       "      <th>raw_location_text</th>\n",
       "      <th>spoken_words</th>\n",
       "      <th>normalized_text</th>\n",
       "      <th>word_count</th>\n",
       "    </tr>\n",
       "  </thead>\n",
       "  <tbody>\n",
       "    <tr>\n",
       "      <th>0</th>\n",
       "      <td>0</td>\n",
       "      <td>10368</td>\n",
       "      <td>35</td>\n",
       "      <td>29</td>\n",
       "      <td>Lisa Simpson: Maggie, look. What's that?</td>\n",
       "      <td>235000</td>\n",
       "      <td>True</td>\n",
       "      <td>9</td>\n",
       "      <td>5.0</td>\n",
       "      <td>Lisa Simpson</td>\n",
       "      <td>Simpson Home</td>\n",
       "      <td>Maggie, look. What's that?</td>\n",
       "      <td>maggie look whats that</td>\n",
       "      <td>4.0</td>\n",
       "    </tr>\n",
       "    <tr>\n",
       "      <th>1</th>\n",
       "      <td>1</td>\n",
       "      <td>10369</td>\n",
       "      <td>35</td>\n",
       "      <td>30</td>\n",
       "      <td>Lisa Simpson: Lee-mur. Lee-mur.</td>\n",
       "      <td>237000</td>\n",
       "      <td>True</td>\n",
       "      <td>9</td>\n",
       "      <td>5.0</td>\n",
       "      <td>Lisa Simpson</td>\n",
       "      <td>Simpson Home</td>\n",
       "      <td>Lee-mur. Lee-mur.</td>\n",
       "      <td>lee-mur lee-mur</td>\n",
       "      <td>2.0</td>\n",
       "    </tr>\n",
       "    <tr>\n",
       "      <th>2</th>\n",
       "      <td>2</td>\n",
       "      <td>10370</td>\n",
       "      <td>35</td>\n",
       "      <td>31</td>\n",
       "      <td>Lisa Simpson: Zee-boo. Zee-boo.</td>\n",
       "      <td>239000</td>\n",
       "      <td>True</td>\n",
       "      <td>9</td>\n",
       "      <td>5.0</td>\n",
       "      <td>Lisa Simpson</td>\n",
       "      <td>Simpson Home</td>\n",
       "      <td>Zee-boo. Zee-boo.</td>\n",
       "      <td>zee-boo zee-boo</td>\n",
       "      <td>2.0</td>\n",
       "    </tr>\n",
       "    <tr>\n",
       "      <th>3</th>\n",
       "      <td>3</td>\n",
       "      <td>10372</td>\n",
       "      <td>35</td>\n",
       "      <td>33</td>\n",
       "      <td>Lisa Simpson: I'm trying to teach Maggie that ...</td>\n",
       "      <td>245000</td>\n",
       "      <td>True</td>\n",
       "      <td>9</td>\n",
       "      <td>5.0</td>\n",
       "      <td>Lisa Simpson</td>\n",
       "      <td>Simpson Home</td>\n",
       "      <td>I'm trying to teach Maggie that nature doesn't...</td>\n",
       "      <td>im trying to teach maggie that nature doesnt e...</td>\n",
       "      <td>24.0</td>\n",
       "    </tr>\n",
       "    <tr>\n",
       "      <th>4</th>\n",
       "      <td>4</td>\n",
       "      <td>10374</td>\n",
       "      <td>35</td>\n",
       "      <td>35</td>\n",
       "      <td>Lisa Simpson: It's like an ox, only it has a h...</td>\n",
       "      <td>254000</td>\n",
       "      <td>True</td>\n",
       "      <td>9</td>\n",
       "      <td>5.0</td>\n",
       "      <td>Lisa Simpson</td>\n",
       "      <td>Simpson Home</td>\n",
       "      <td>It's like an ox, only it has a hump and a dewl...</td>\n",
       "      <td>its like an ox only it has a hump and a dewlap...</td>\n",
       "      <td>18.0</td>\n",
       "    </tr>\n",
       "  </tbody>\n",
       "</table>\n",
       "</div>"
      ],
      "text/plain": [
       "   Unnamed: 0     id  episode_id  number  \\\n",
       "0           0  10368          35      29   \n",
       "1           1  10369          35      30   \n",
       "2           2  10370          35      31   \n",
       "3           3  10372          35      33   \n",
       "4           4  10374          35      35   \n",
       "\n",
       "                                            raw_text  timestamp_in_ms  \\\n",
       "0           Lisa Simpson: Maggie, look. What's that?           235000   \n",
       "1                    Lisa Simpson: Lee-mur. Lee-mur.           237000   \n",
       "2                    Lisa Simpson: Zee-boo. Zee-boo.           239000   \n",
       "3  Lisa Simpson: I'm trying to teach Maggie that ...           245000   \n",
       "4  Lisa Simpson: It's like an ox, only it has a h...           254000   \n",
       "\n",
       "   speaking_line  character_id  location_id raw_character_text  \\\n",
       "0           True             9          5.0       Lisa Simpson   \n",
       "1           True             9          5.0       Lisa Simpson   \n",
       "2           True             9          5.0       Lisa Simpson   \n",
       "3           True             9          5.0       Lisa Simpson   \n",
       "4           True             9          5.0       Lisa Simpson   \n",
       "\n",
       "  raw_location_text                                       spoken_words  \\\n",
       "0      Simpson Home                         Maggie, look. What's that?   \n",
       "1      Simpson Home                                  Lee-mur. Lee-mur.   \n",
       "2      Simpson Home                                  Zee-boo. Zee-boo.   \n",
       "3      Simpson Home  I'm trying to teach Maggie that nature doesn't...   \n",
       "4      Simpson Home  It's like an ox, only it has a hump and a dewl...   \n",
       "\n",
       "                                     normalized_text  word_count  \n",
       "0                             maggie look whats that         4.0  \n",
       "1                                    lee-mur lee-mur         2.0  \n",
       "2                                    zee-boo zee-boo         2.0  \n",
       "3  im trying to teach maggie that nature doesnt e...        24.0  \n",
       "4  its like an ox only it has a hump and a dewlap...        18.0  "
      ]
     },
     "execution_count": 97,
     "metadata": {},
     "output_type": "execute_result"
    }
   ],
   "source": [
    "df2 = pd.read_csv('data.csv')\n",
    "df2.head()"
   ]
  },
  {
   "cell_type": "code",
   "execution_count": 98,
   "id": "a8d3fe77",
   "metadata": {},
   "outputs": [
    {
     "data": {
      "text/plain": [
       "(['maggie look whats that',\n",
       "  'lee-mur lee-mur',\n",
       "  'zee-boo zee-boo',\n",
       "  'im trying to teach maggie that nature doesnt end with the barnyard i want her to have all the advantages that i didnt have',\n",
       "  'its like an ox only it has a hump and a dewlap hump and dew-lap hump and dew-lap',\n",
       "  'you know his blood type how romantic',\n",
       "  'oh yeah whats my shoe size',\n",
       "  'ring',\n",
       "  'yes dad',\n",
       "  'ooh look maggie what is that do-dec-ah-edron dodecahedron'],\n",
       " 10891)"
      ]
     },
     "execution_count": 98,
     "metadata": {},
     "output_type": "execute_result"
    }
   ],
   "source": [
    "phrases2 = df2['normalized_text'].dropna().tolist()\n",
    "phrases2[:10], len(phrases2)"
   ]
  },
  {
   "cell_type": "code",
   "execution_count": 99,
   "id": "c532c231",
   "metadata": {},
   "outputs": [
    {
     "data": {
      "text/plain": [
       "10849"
      ]
     },
     "execution_count": 99,
     "metadata": {},
     "output_type": "execute_result"
    }
   ],
   "source": [
    "bag_words = []\n",
    "for d in phrases2:\n",
    "    bag_words.extend(d.split())\n",
    "bag_words = [i for i in set(bag_words)]\n",
    "CHARS2 = bag_words\n",
    "len(CHARS2)"
   ]
  },
  {
   "cell_type": "code",
   "execution_count": 100,
   "id": "067446df",
   "metadata": {},
   "outputs": [],
   "source": [
    "text2 = [ph.split() for ph in phrases2 if type(ph) is str]"
   ]
  },
  {
   "cell_type": "code",
   "execution_count": 101,
   "id": "70d2dda3",
   "metadata": {},
   "outputs": [
    {
     "data": {
      "text/plain": [
       "[['maggie', 'look', 'whats', 'that']]"
      ]
     },
     "execution_count": 101,
     "metadata": {},
     "output_type": "execute_result"
    }
   ],
   "source": [
    "text2[:1]"
   ]
  },
  {
   "cell_type": "code",
   "execution_count": 102,
   "id": "484b8a25",
   "metadata": {},
   "outputs": [],
   "source": [
    "INDEX_TO_CHAR2 = ['none'] + [w for w in CHARS2]\n",
    "CHAR_TO_INDEX2 = {w: i for i, w in enumerate(INDEX_TO_CHAR2)}"
   ]
  },
  {
   "cell_type": "code",
   "execution_count": 103,
   "id": "0122781e",
   "metadata": {},
   "outputs": [
    {
     "data": {
      "text/plain": [
       "10849"
      ]
     },
     "execution_count": 103,
     "metadata": {},
     "output_type": "execute_result"
    }
   ],
   "source": [
    "len(CHAR_TO_INDEX2)"
   ]
  },
  {
   "cell_type": "code",
   "execution_count": 104,
   "id": "b5cb1a03",
   "metadata": {},
   "outputs": [],
   "source": [
    "MAX_LEN2 = 75\n",
    "X2 = torch.zeros((len(text2), MAX_LEN2), dtype=int)\n",
    "for i in range(len(text2)):\n",
    "    for j, w in enumerate(text2[i]):\n",
    "        if j >= MAX_LEN2:\n",
    "            break\n",
    "        X2[i, j] = CHAR_TO_INDEX2.get(w, CHAR_TO_INDEX2['none'])"
   ]
  },
  {
   "cell_type": "code",
   "execution_count": 105,
   "id": "bdde701c",
   "metadata": {},
   "outputs": [
    {
     "data": {
      "text/plain": [
       "torch.Size([10891, 75])"
      ]
     },
     "execution_count": 105,
     "metadata": {},
     "output_type": "execute_result"
    }
   ],
   "source": [
    "X2.shape"
   ]
  },
  {
   "cell_type": "code",
   "execution_count": 106,
   "id": "bbda1c8d",
   "metadata": {},
   "outputs": [],
   "source": [
    "L = 10849\n",
    "H = 128\n",
    "B = 100\n",
    "E = 76"
   ]
  },
  {
   "cell_type": "code",
   "execution_count": 107,
   "id": "d9e13df5",
   "metadata": {},
   "outputs": [
    {
     "data": {
      "text/plain": [
       "torch.Size([1, 100, 128])"
      ]
     },
     "execution_count": 107,
     "metadata": {},
     "output_type": "execute_result"
    }
   ],
   "source": [
    "ht =  torch.zeros(1, B, H)\n",
    "ht.shape "
   ]
  },
  {
   "cell_type": "code",
   "execution_count": 108,
   "id": "5ae16e42",
   "metadata": {},
   "outputs": [
    {
     "data": {
      "text/plain": [
       "Network2(\n",
       "  (embed): Embedding(10849, 76)\n",
       "  (ln): Linear(in_features=204, out_features=128, bias=True)\n",
       "  (tanh): Tanh()\n",
       "  (linear): Linear(in_features=128, out_features=76, bias=True)\n",
       ")"
      ]
     },
     "execution_count": 108,
     "metadata": {},
     "output_type": "execute_result"
    }
   ],
   "source": [
    "class Network2(torch.nn.Module):\n",
    "    def __init__ (self):\n",
    "        super(Network2, self).__init__()\n",
    "        self.embed = torch.nn.Embedding(L, E)\n",
    "        self.ln = torch.nn.Linear((H + E), H)\n",
    "        self.tanh = torch.nn.Tanh()           \n",
    "        self.linear = torch.nn.Linear(H, E)\n",
    "        \n",
    "    def forward(self, X2_batch, ht, state = None):\n",
    "        r = torch.Tensor()\n",
    "        embed = self.embed(X2_batch)\n",
    "        \n",
    "        for l in range(1, (embed.shape[1] + 1)):\n",
    "            \n",
    "            xt = embed[:,(l-1):l,:].view(1, B, E)\n",
    "            xh = torch.cat([xt, ht], dim=2)\n",
    "            ht = self.tanh(self.ln(xh))\n",
    "            r = torch.cat([r, ht], dim=0) \n",
    "        \n",
    "        out = self.linear(r)\n",
    "        # print(out.shape)\n",
    "        h = self.linear(ht)\n",
    "        return out, h\n",
    "model2 = Network2()\n",
    "model2 "
   ]
  },
  {
   "cell_type": "code",
   "execution_count": 109,
   "id": "73ac75b0",
   "metadata": {},
   "outputs": [],
   "source": [
    "criterion2 = torch.nn.CrossEntropyLoss()\n",
    "optimizer2 = torch.optim.SGD(model2.parameters(), lr=0.5)"
   ]
  },
  {
   "cell_type": "code",
   "execution_count": 110,
   "id": "15823edf",
   "metadata": {},
   "outputs": [],
   "source": [
    "def generate_sentence2():   \n",
    "    sentence=  X2[-100:][:, :-1]    \n",
    "    answers, h = model2.forward(sentence, ht)\n",
    "    probas, indices = answers.topk(1)\n",
    "    return \" \".join([INDEX_TO_CHAR2[ind.item()] for ind in indices.flatten()])[:75]"
   ]
  },
  {
   "cell_type": "code",
   "execution_count": 111,
   "id": "b26031f4",
   "metadata": {},
   "outputs": [
    {
     "data": {
      "text/plain": [
       "'they-they genre monsieur they-they discourage herself discourage excitement'"
      ]
     },
     "execution_count": 111,
     "metadata": {},
     "output_type": "execute_result"
    }
   ],
   "source": [
    "generate_sentence2()"
   ]
  },
  {
   "cell_type": "code",
   "execution_count": 115,
   "id": "1b629878",
   "metadata": {},
   "outputs": [
    {
     "name": "stdout",
     "output_type": "stream",
     "text": [
      "Epoch 0. Time: 31.325, Train loss: -132159425167.360\n",
      "died died their cans cans jailed cans without cans cans died died without w\n",
      "Epoch 1. Time: 30.768, Train loss: 333290858823.680\n",
      "died died glow died died jailed died without died cans without solved solve\n",
      "Epoch 2. Time: 31.417, Train loss: 93331472691.200\n",
      "prank died glow died died jailed died without died cans without without wit\n",
      "Epoch 3. Time: 33.576, Train loss: 110179913963.520\n",
      "prank signaling glow cans cans without cans died cans footprint died died d\n",
      "Epoch 4. Time: 33.528, Train loss: -166934005882.880\n",
      "signaling signaling monsieur cans cans hate cans died cans footprint died d\n",
      "Epoch 5. Time: 32.183, Train loss: 249453889167.360\n",
      "died leisure monsieur brown brown terrorist brown without brown they-they d\n",
      "Epoch 6. Time: 33.640, Train loss: -136682133094.400\n",
      "appointed appointed appointed chai chai terrorist chai without chai they-th\n",
      "Epoch 7. Time: 30.207, Train loss: -874613586165.760\n",
      "appointed appointed appointed cans cans terrorist cans appointed cans cans \n",
      "Epoch 8. Time: 30.317, Train loss: -63900289433.600\n",
      "appointed appointed appointed chai chai without chai appointed chai warm di\n",
      "Epoch 9. Time: 30.331, Train loss: 314434797977.600\n",
      "appointed appointed appointed chai chai appointed chai appointed chai warm \n"
     ]
    }
   ],
   "source": [
    "ht =  torch.zeros(1, B, H)\n",
    "for ep in range(10):\n",
    "    start = time.time()\n",
    "    train_loss2 = 0.\n",
    "    train_passed2 = 0\n",
    "\n",
    "    for i in range(int(len(X2[:10000]) / 100)):\n",
    "        \n",
    "        batch = X2[:10000][i * 100:(i + 1) * 100]\n",
    "        X2_batch = batch[:, :-1]\n",
    "        \n",
    "        embed = torch.nn.Embedding(L, E)       \n",
    "        Y2_batch = embed(batch[:, 1:]).flatten().view(-1, 562400)       \n",
    "\n",
    "\n",
    "        optimizer2.zero_grad()\n",
    "        answers2, h = model2.forward(X2_batch, ht)\n",
    "        answers3 = answers2.view(-1, 562400)      \n",
    "\n",
    "        loss2 = criterion2(answers3, Y2_batch)\n",
    "        train_loss2 += loss2.item()\n",
    "        loss2.backward()\n",
    "        optimizer2.step()\n",
    "        train_passed2 += 1        \n",
    "\n",
    "    print(\"Epoch {}. Time: {:.3f}, Train loss: {:.3f}\".format(ep, time.time() - start, train_loss2 / train_passed2))\n",
    "    print(generate_sentence2())   "
   ]
  }
 ],
 "metadata": {
  "kernelspec": {
   "display_name": "Python 3 (ipykernel)",
   "language": "python",
   "name": "python3"
  },
  "language_info": {
   "codemirror_mode": {
    "name": "ipython",
    "version": 3
   },
   "file_extension": ".py",
   "mimetype": "text/x-python",
   "name": "python",
   "nbconvert_exporter": "python",
   "pygments_lexer": "ipython3",
   "version": "3.9.7"
  }
 },
 "nbformat": 4,
 "nbformat_minor": 5
}
