{
 "cells": [
  {
   "cell_type": "markdown",
   "id": "1e407bf7-8117-4182-b0ff-2e792bb32349",
   "metadata": {},
   "source": [
    "### ДЗ № 1 \"ПЕРЦЕПТРОН\"\n",
    "\n",
    "##### Преподаватель: Алексей Миронов, Екатерина Апраксина\n",
    "\n",
    "#### 1. Реализовать обучение линейной регрессии для задачи boston house prices (www.kaggle.com...use-prices) с использованием torch’а\n"
   ]
  },
  {
   "cell_type": "code",
   "execution_count": 51,
   "id": "2916bd80-f3b0-47ad-b758-88943788c952",
   "metadata": {},
   "outputs": [],
   "source": [
    "import sklearn\n",
    "import pandas as pd\n",
    "\n",
    "import torch\n",
    "import torch.nn as nn\n",
    "from torch import autograd\n",
    "from torch.utils.data import TensorDataset, DataLoader\n",
    "from torch.nn import init\n",
    "import torch.optim as optim\n",
    "import torchvision as tv\n",
    "import warnings\n",
    "warnings.filterwarnings(\"ignore\")\n",
    "import numpy as np\n",
    "import matplotlib.pyplot as plt"
   ]
  },
  {
   "cell_type": "code",
   "execution_count": 41,
   "id": "67941ad6-556c-4bce-8834-1dc1f64b527f",
   "metadata": {},
   "outputs": [],
   "source": [
    "from sklearn.datasets import load_boston\n",
    "data = load_boston()\n",
    "X = data.data\n",
    "y = data.target"
   ]
  },
  {
   "cell_type": "code",
   "execution_count": 42,
   "id": "411aaf15-d4cc-4ca2-b45e-4467be9c543c",
   "metadata": {},
   "outputs": [
    {
     "name": "stdout",
     "output_type": "stream",
     "text": [
      "14\n"
     ]
    },
    {
     "data": {
      "text/html": [
       "<div>\n",
       "<style scoped>\n",
       "    .dataframe tbody tr th:only-of-type {\n",
       "        vertical-align: middle;\n",
       "    }\n",
       "\n",
       "    .dataframe tbody tr th {\n",
       "        vertical-align: top;\n",
       "    }\n",
       "\n",
       "    .dataframe thead th {\n",
       "        text-align: right;\n",
       "    }\n",
       "</style>\n",
       "<table border=\"1\" class=\"dataframe\">\n",
       "  <thead>\n",
       "    <tr style=\"text-align: right;\">\n",
       "      <th></th>\n",
       "      <th>CRIM</th>\n",
       "      <th>ZN</th>\n",
       "      <th>INDUS</th>\n",
       "      <th>CHAS</th>\n",
       "      <th>NOX</th>\n",
       "      <th>RM</th>\n",
       "      <th>AGE</th>\n",
       "      <th>DIS</th>\n",
       "      <th>RAD</th>\n",
       "      <th>TAX</th>\n",
       "      <th>PTRATIO</th>\n",
       "      <th>B</th>\n",
       "      <th>LSTAT</th>\n",
       "      <th>PRICE</th>\n",
       "    </tr>\n",
       "  </thead>\n",
       "  <tbody>\n",
       "    <tr>\n",
       "      <th>0</th>\n",
       "      <td>0.00632</td>\n",
       "      <td>18.0</td>\n",
       "      <td>2.31</td>\n",
       "      <td>0.0</td>\n",
       "      <td>0.538</td>\n",
       "      <td>6.575</td>\n",
       "      <td>65.2</td>\n",
       "      <td>4.0900</td>\n",
       "      <td>1.0</td>\n",
       "      <td>296.0</td>\n",
       "      <td>15.3</td>\n",
       "      <td>396.90</td>\n",
       "      <td>4.98</td>\n",
       "      <td>24.0</td>\n",
       "    </tr>\n",
       "    <tr>\n",
       "      <th>1</th>\n",
       "      <td>0.02731</td>\n",
       "      <td>0.0</td>\n",
       "      <td>7.07</td>\n",
       "      <td>0.0</td>\n",
       "      <td>0.469</td>\n",
       "      <td>6.421</td>\n",
       "      <td>78.9</td>\n",
       "      <td>4.9671</td>\n",
       "      <td>2.0</td>\n",
       "      <td>242.0</td>\n",
       "      <td>17.8</td>\n",
       "      <td>396.90</td>\n",
       "      <td>9.14</td>\n",
       "      <td>21.6</td>\n",
       "    </tr>\n",
       "    <tr>\n",
       "      <th>2</th>\n",
       "      <td>0.02729</td>\n",
       "      <td>0.0</td>\n",
       "      <td>7.07</td>\n",
       "      <td>0.0</td>\n",
       "      <td>0.469</td>\n",
       "      <td>7.185</td>\n",
       "      <td>61.1</td>\n",
       "      <td>4.9671</td>\n",
       "      <td>2.0</td>\n",
       "      <td>242.0</td>\n",
       "      <td>17.8</td>\n",
       "      <td>392.83</td>\n",
       "      <td>4.03</td>\n",
       "      <td>34.7</td>\n",
       "    </tr>\n",
       "    <tr>\n",
       "      <th>3</th>\n",
       "      <td>0.03237</td>\n",
       "      <td>0.0</td>\n",
       "      <td>2.18</td>\n",
       "      <td>0.0</td>\n",
       "      <td>0.458</td>\n",
       "      <td>6.998</td>\n",
       "      <td>45.8</td>\n",
       "      <td>6.0622</td>\n",
       "      <td>3.0</td>\n",
       "      <td>222.0</td>\n",
       "      <td>18.7</td>\n",
       "      <td>394.63</td>\n",
       "      <td>2.94</td>\n",
       "      <td>33.4</td>\n",
       "    </tr>\n",
       "    <tr>\n",
       "      <th>4</th>\n",
       "      <td>0.06905</td>\n",
       "      <td>0.0</td>\n",
       "      <td>2.18</td>\n",
       "      <td>0.0</td>\n",
       "      <td>0.458</td>\n",
       "      <td>7.147</td>\n",
       "      <td>54.2</td>\n",
       "      <td>6.0622</td>\n",
       "      <td>3.0</td>\n",
       "      <td>222.0</td>\n",
       "      <td>18.7</td>\n",
       "      <td>396.90</td>\n",
       "      <td>5.33</td>\n",
       "      <td>36.2</td>\n",
       "    </tr>\n",
       "  </tbody>\n",
       "</table>\n",
       "</div>"
      ],
      "text/plain": [
       "      CRIM    ZN  INDUS  CHAS    NOX     RM   AGE     DIS  RAD    TAX  \\\n",
       "0  0.00632  18.0   2.31   0.0  0.538  6.575  65.2  4.0900  1.0  296.0   \n",
       "1  0.02731   0.0   7.07   0.0  0.469  6.421  78.9  4.9671  2.0  242.0   \n",
       "2  0.02729   0.0   7.07   0.0  0.469  7.185  61.1  4.9671  2.0  242.0   \n",
       "3  0.03237   0.0   2.18   0.0  0.458  6.998  45.8  6.0622  3.0  222.0   \n",
       "4  0.06905   0.0   2.18   0.0  0.458  7.147  54.2  6.0622  3.0  222.0   \n",
       "\n",
       "   PTRATIO       B  LSTAT  PRICE  \n",
       "0     15.3  396.90   4.98   24.0  \n",
       "1     17.8  396.90   9.14   21.6  \n",
       "2     17.8  392.83   4.03   34.7  \n",
       "3     18.7  394.63   2.94   33.4  \n",
       "4     18.7  396.90   5.33   36.2  "
      ]
     },
     "execution_count": 42,
     "metadata": {},
     "output_type": "execute_result"
    }
   ],
   "source": [
    "df = pd.DataFrame(X, columns=data.feature_names)\n",
    "df['PRICE'] = y\n",
    "print(len(df.columns))\n",
    "df.head()"
   ]
  },
  {
   "cell_type": "code",
   "execution_count": 43,
   "id": "30618416-9e20-456d-ac88-e769e7253107",
   "metadata": {},
   "outputs": [
    {
     "data": {
      "text/plain": [
       "(354, 354, 152, 152)"
      ]
     },
     "execution_count": 43,
     "metadata": {},
     "output_type": "execute_result"
    }
   ],
   "source": [
    "#Готовим выборки\n",
    "from sklearn.model_selection import train_test_split\n",
    "X_train, X_test, y_train, y_test = train_test_split(X, y, test_size=.3, random_state=42, shuffle=True)\n",
    "len(X_train), len(y_train), len(X_test), len(y_test)"
   ]
  },
  {
   "cell_type": "code",
   "execution_count": 867,
   "id": "974f0f0e-edad-4484-8fed-8f9c501640ff",
   "metadata": {},
   "outputs": [],
   "source": [
    "#создаем тензоры\n",
    "X_train = torch.tensor(X_train).float()\n",
    "y_train = torch.tensor(y_train).view(-1).float()\n",
    "X_test = torch.tensor(X_test).float()\n",
    "y_test = torch.tensor(y_test).view(-1).float()\n",
    "\n",
    "#генерируем бачи\n",
    "batch_size = 10\n",
    "dataset    = TensorDataset(X_train, y_train)\n",
    "data_iter  = DataLoader(dataset, batch_size, shuffle=True)"
   ]
  },
  {
   "cell_type": "code",
   "execution_count": 107,
   "id": "b49e7cb4-21ca-4d84-bc11-ba3f36180254",
   "metadata": {},
   "outputs": [
    {
     "name": "stdout",
     "output_type": "stream",
     "text": [
      "Sequential(\n",
      "  (0): Linear(in_features=13, out_features=1, bias=True)\n",
      ")\n"
     ]
    }
   ],
   "source": [
    "inputs_number = 13\n",
    "model = nn.Sequential(\n",
    "    nn.Linear(in_features=13, out_features=1, bias=True)\n",
    ")\n",
    "print (model) # Просмотр структуры сети"
   ]
  },
  {
   "cell_type": "code",
   "execution_count": 108,
   "id": "fe149c45-9b5b-4a4a-9301-2ee2f05276c1",
   "metadata": {},
   "outputs": [
    {
     "name": "stdout",
     "output_type": "stream",
     "text": [
      "Parameter containing:\n",
      "tensor([[ 0.0951,  0.2145, -0.1600,  0.0322, -0.0336, -0.0971,  0.0944,  0.0818,\n",
      "         -0.1470,  0.1908,  0.1402, -0.1017, -0.1115]], requires_grad=True)\n",
      "Parameter containing:\n",
      "tensor([-0.0440], requires_grad=True)\n"
     ]
    }
   ],
   "source": [
    "for param in model.parameters():\n",
    "    print(param)"
   ]
  },
  {
   "cell_type": "code",
   "execution_count": 109,
   "id": "282b54db-d309-41e2-87ec-189bad018163",
   "metadata": {},
   "outputs": [
    {
     "name": "stdout",
     "output_type": "stream",
     "text": [
      "SGD (\n",
      "Parameter Group 0\n",
      "    dampening: 0\n",
      "    lr: 2e-06\n",
      "    momentum: 0\n",
      "    nesterov: False\n",
      "    weight_decay: 0\n",
      ")\n"
     ]
    }
   ],
   "source": [
    "init.normal_(model[0].weight, mean=0.0, std=0.01)\n",
    "init.constant_(model[0].bias, val=0.0) \n",
    "\n",
    "#Функция потерь\n",
    "loss = nn.MSELoss()\n",
    "\n",
    "#Оптимизатор\n",
    "import torch.optim as optim\n",
    "optimizer = optim.SGD(model.parameters(), lr=0.000002)\n",
    "print(optimizer)"
   ]
  },
  {
   "cell_type": "code",
   "execution_count": 110,
   "id": "03e987f2-879a-422d-b2fe-2231cc5bda1d",
   "metadata": {},
   "outputs": [
    {
     "data": {
      "text/plain": [
       "tensor([0.])"
      ]
     },
     "execution_count": 110,
     "metadata": {},
     "output_type": "execute_result"
    }
   ],
   "source": [
    "model[0].bias.data"
   ]
  },
  {
   "cell_type": "code",
   "execution_count": 111,
   "id": "ea8a7a49-def0-461c-9379-ce708d5f60c3",
   "metadata": {},
   "outputs": [
    {
     "data": {
      "text/plain": [
       "tensor([[ 0.0098,  0.0117, -0.0070,  0.0017,  0.0052, -0.0086,  0.0069, -0.0191,\n",
       "          0.0050,  0.0049, -0.0165, -0.0013, -0.0156]])"
      ]
     },
     "execution_count": 111,
     "metadata": {},
     "output_type": "execute_result"
    }
   ],
   "source": [
    "model[0].weight.data"
   ]
  },
  {
   "cell_type": "code",
   "execution_count": 121,
   "id": "e39f9a26-77ea-47be-8eef-2fa701f470d0",
   "metadata": {},
   "outputs": [
    {
     "name": "stdout",
     "output_type": "stream",
     "text": [
      "epoch 5000, loss: 9.282955\n",
      "w tensor([[-0.1274,  0.0544,  0.0352,  0.5262,  0.1988,  4.4675,  0.0138, -0.6784,\n",
      "          0.1218, -0.0052, -0.1958,  0.0212, -0.5937]])\n",
      "b tensor([0.4424])\n"
     ]
    }
   ],
   "source": [
    "#Учим модель\n",
    "l_item = []\n",
    "e = []\n",
    "num_epochs = 5000\n",
    "for epoch in range(1, num_epochs + 1):\n",
    "    for X, y in data_iter:\n",
    "        output = model(X)\n",
    "        l = loss(output, y.view(-1, 1))\n",
    "        optimizer.zero_grad()\n",
    "        l.backward()\n",
    "        optimizer.step()\n",
    "    e.append(epoch)\n",
    "    l_item.append(l.item())\n",
    "print('epoch %d, loss: %f' % (epoch, l.item()))\n",
    "print('w', model[0].weight.data)\n",
    "print('b', model[0].bias.data)"
   ]
  },
  {
   "cell_type": "code",
   "execution_count": 122,
   "id": "6a7d3036-adb5-4385-9018-aaff06e7e030",
   "metadata": {},
   "outputs": [
    {
     "data": {
      "image/png": "[encoded data removed]",
      "text/plain": [
       "<Figure size 1080x648 with 1 Axes>"
      ]
     },
     "metadata": {
      "needs_background": "light"
     },
     "output_type": "display_data"
    }
   ],
   "source": [
    "fig, ax = plt.subplots(figsize=(15, 9))\n",
    "ax.plot(e[:100], l_item[:100])\n",
    "plt.show()"
   ]
  },
  {
   "cell_type": "code",
   "execution_count": 123,
   "id": "46c5f53a-c2ff-4ce9-b455-55578662063b",
   "metadata": {},
   "outputs": [
    {
     "name": "stdout",
     "output_type": "stream",
     "text": [
      "tensor([14.8612], grad_fn=<SelectBackward0>) tensor(19.7000)\n",
      "tensor([31.8559], grad_fn=<SelectBackward0>) tensor(28.2000)\n",
      "tensor([41.6623], grad_fn=<SelectBackward0>) tensor(50.)\n",
      "tensor([18.1330], grad_fn=<SelectBackward0>) tensor(17.4000)\n",
      "tensor([26.5808], grad_fn=<SelectBackward0>) tensor(22.6000)\n",
      "tensor([19.6105], grad_fn=<SelectBackward0>) tensor(15.1000)\n",
      "w tensor([[-0.1274,  0.0544,  0.0352,  0.5262,  0.1988,  4.4675,  0.0138, -0.6784,\n",
      "          0.1218, -0.0052, -0.1958,  0.0212, -0.5937]])\n",
      "b tensor([0.4424])\n",
      "square loss: 5.2328167\n"
     ]
    }
   ],
   "source": [
    "#Смотрим на результат предсказаний\n",
    "outputs = model(X_test)\n",
    "for i in range(40, 46):\n",
    "    print(outputs[i], y_test[i])   \n",
    "    \n",
    "#Ошибка через loss\n",
    "\n",
    "print('w', model[0].weight.data)\n",
    "print('b', model[0].bias.data)\n",
    "print(\"square loss:\", np.sqrt(loss(outputs, y_test.view(-1, 1)).detach().numpy()))\n"
   ]
  },
  {
   "cell_type": "code",
   "execution_count": null,
   "id": "3619906b-0e11-4e29-ad3b-9e3180d2634c",
   "metadata": {},
   "outputs": [],
   "source": []
  },
  {
   "cell_type": "markdown",
   "id": "f965de94-fcfe-4c66-8c62-536600e3b83d",
   "metadata": {},
   "source": [
    "#### 2. ** Реализовать наивный баесовский классификатор для MNIST (взяв всего 2 цифры “1” и “2”) сравнить с sclearn’овским"
   ]
  },
  {
   "cell_type": "code",
   "execution_count": 812,
   "id": "a152f36d-6458-4019-a12a-6076f93447e1",
   "metadata": {},
   "outputs": [],
   "source": [
    "def transform(data):\n",
    "    data = torch.tensor(data.getdata(), dtype=torch.float32)\n",
    "    return torch.floor(data / 128.).squeeze(axis=-1)"
   ]
  },
  {
   "cell_type": "code",
   "execution_count": 813,
   "id": "c4f433f1-2451-4e08-97a2-64d6728d6225",
   "metadata": {
    "ExecuteTime": {
     "end_time": "2019-11-04T10:38:01.240059Z",
     "start_time": "2019-11-04T10:38:01.054722Z"
    }
   },
   "outputs": [],
   "source": [
    "mnist_train = tv.datasets.MNIST('.', train=True, transform=transform, download=True)\n",
    "mnist_test  = tv.datasets.MNIST('.', train=False, transform=transform, download=True)"
   ]
  },
  {
   "cell_type": "code",
   "execution_count": 814,
   "id": "e98c8618-ab1e-4b6d-a468-b8827584a831",
   "metadata": {},
   "outputs": [
    {
     "data": {
      "text/plain": [
       "(60000, 10000)"
      ]
     },
     "execution_count": 814,
     "metadata": {},
     "output_type": "execute_result"
    }
   ],
   "source": [
    "len(mnist_train), len(mnist_test)"
   ]
  },
  {
   "cell_type": "code",
   "execution_count": 844,
   "id": "a91b98b3-5971-4410-b1c3-01de956f338b",
   "metadata": {},
   "outputs": [
    {
     "data": {
      "text/plain": [
       "torch.Size([6742, 784])"
      ]
     },
     "execution_count": 844,
     "metadata": {},
     "output_type": "execute_result"
    }
   ],
   "source": [
    "# Загружаем класс 1\n",
    "x_1_train = mnist_train.data[mnist_train.train_labels==1]\n",
    "x_1_train = x_1_train.reshape(6742, 784)\n",
    "x_1_train.shape"
   ]
  },
  {
   "cell_type": "code",
   "execution_count": 845,
   "id": "428e3fd6-96b8-4eda-91b0-8d19af60f99f",
   "metadata": {},
   "outputs": [
    {
     "data": {
      "text/plain": [
       "torch.Size([5958, 784])"
      ]
     },
     "execution_count": 845,
     "metadata": {},
     "output_type": "execute_result"
    }
   ],
   "source": [
    "# Загружаем класс 2\n",
    "x_2_train = mnist_train.data[mnist_train.train_labels==2]\n",
    "x_2_train = x_2_train.reshape(5958, 784)\n",
    "x_2_train.shape"
   ]
  },
  {
   "cell_type": "code",
   "execution_count": 846,
   "id": "2f4a2ed1-7f79-406b-a7a8-ca842772f1de",
   "metadata": {},
   "outputs": [],
   "source": [
    "# Считаем мат. ожидание и дисперсию по каждому классу\n",
    "x_1_mean = ((x_1_train.float()).mean(axis=0))\n",
    "x_1_var =  (((x_1_train).float().var(axis=0)))+1000\n",
    "x_2_mean = ((x_2_train.float()).mean(axis=0))\n",
    "x_2_var =  (((x_2_mean).float().var(axis=0)))+1000"
   ]
  },
  {
   "cell_type": "code",
   "execution_count": 847,
   "id": "5b434380-b9d1-4f2c-bcc5-d40d94bb5972",
   "metadata": {},
   "outputs": [],
   "source": [
    "# Считаем вероятность влияния априорную вероятность (Р (призанки|класс))\n",
    "result1 = []\n",
    "for i in range(x_1_train.shape[0]):\n",
    "    classifier = []\n",
    "    sample1 = x_1_train[i]\n",
    "    prob1 = (torch.exp(-(sample1 - x_1_mean)/(2 * x_1_var))/ torch.sqrt(2 * torch.pi * x_1_var))   \n",
    "    result1+= [prob1.sum().item()]\n",
    "\n",
    "result1 = np.array(result1).mean()\n",
    "\n",
    "result2=[]\n",
    "for i in range(x_2_train.shape[0]):\n",
    "    classifier = []\n",
    "    sample2 = x_2_train[i]\n",
    "    prob2 = (torch.exp(-(sample2 - x_2_mean)/(2 * x_2_var))/ torch.sqrt(2 * torch.pi * x_2_var))\n",
    "    result2+=[prob2.sum().item()]  \n",
    "result2 =np.array(result2).mean()\n"
   ]
  },
  {
   "cell_type": "code",
   "execution_count": 848,
   "id": "9265dd2e-3bf9-4a70-bc50-dffe6b3a4f01",
   "metadata": {},
   "outputs": [
    {
     "data": {
      "text/plain": [
       "(torch.Size([2167, 28, 28]), 2167)"
      ]
     },
     "execution_count": 848,
     "metadata": {},
     "output_type": "execute_result"
    }
   ],
   "source": [
    "#  Загружаем тестовый набор\n",
    "X_test = torch.cat((mnist_test.data[mnist_test.test_labels==1], mnist_test.data[mnist_test.test_labels==2]), dim=0)\n",
    "y_test = []\n",
    "for i in range(len(mnist_test)):\n",
    "    if mnist_test[i][1] == 1 or mnist_test[i][1] == 2:    \n",
    "        y_test.append(mnist_test[i][1])\n",
    "        \n",
    "X_test.shape, len(y_test)"
   ]
  },
  {
   "cell_type": "code",
   "execution_count": 857,
   "id": "1aad5349-2b91-462e-8a7a-9e464ed2ad83",
   "metadata": {},
   "outputs": [
    {
     "name": "stdout",
     "output_type": "stream",
     "text": [
      "Test Accuracy: 53 %\n"
     ]
    }
   ],
   "source": [
    "# Проверяем на тестовом наборе\n",
    "pred =[]\n",
    "pred_true = []\n",
    "for i in range(X_test.shape[0]):\n",
    "    classifier = []\n",
    "    sample = X_test[i].reshape(784)\n",
    "    prob1 = (torch.exp(-(sample - x_1_mean)/(2 * x_1_var))/ torch.sqrt(2 * torch.pi * x_1_var))\n",
    "    prob2 = (torch.exp(-(sample - x_2_mean)/(2 * x_2_var))/ torch.sqrt(2 * torch.pi * x_2_var))\n",
    "       \n",
    "    classifier.append(prob1.sum()-result1)\n",
    "    classifier.append(prob2.sum()-result2)\n",
    "    \n",
    "    \n",
    "    if classifier[0]  <= 0.0026:\n",
    "        pred.append(1)\n",
    "    else: \n",
    "        pred.append(2)\n",
    "    pred_true.append(y_test[i])   \n",
    "       \n",
    "n = np.array(pred) - np.array(pred_true)\n",
    "   \n",
    "print(\"Test Accuracy:\", round((len(n) - np.count_nonzero(n))/len(n)*100),'%')\n",
    "    "
   ]
  },
  {
   "cell_type": "markdown",
   "id": "c27f6bdb-47cc-4e1b-949b-3fc294112b6f",
   "metadata": {},
   "source": [
    "#### Сравнение с sklearn"
   ]
  },
  {
   "cell_type": "code",
   "execution_count": 858,
   "id": "c851e593-e0ab-4310-97f3-21890e74b9bb",
   "metadata": {},
   "outputs": [],
   "source": [
    "X_train = torch.cat((x_1_train, x_2_train), dim=0)"
   ]
  },
  {
   "cell_type": "code",
   "execution_count": 859,
   "id": "82d81c04-4fe6-4de0-b5c0-0cd66fd4d250",
   "metadata": {},
   "outputs": [
    {
     "data": {
      "text/plain": [
       "(torch.Size([12700, 784]), 12700)"
      ]
     },
     "execution_count": 859,
     "metadata": {},
     "output_type": "execute_result"
    }
   ],
   "source": [
    "X_train.shape, len(y_train)"
   ]
  },
  {
   "cell_type": "code",
   "execution_count": 866,
   "id": "e256a0a4-5a3e-4141-aa39-f105e499cb8b",
   "metadata": {},
   "outputs": [
    {
     "name": "stdout",
     "output_type": "stream",
     "text": [
      "Test Accuracy: 53 %\n"
     ]
    }
   ],
   "source": [
    "from sklearn.naive_bayes import GaussianNB\n",
    "model2 = GaussianNB()\n",
    "\n",
    "# Train the model using the training sets \n",
    "model2.fit(X_train, y_train)\n",
    "\n",
    "#Predict Output \n",
    "predicted= model2.score(X_test.reshape(2167, 784), y_test)\n",
    "print(\"Test Accuracy:\", round(predicted*100), '%') \n"
   ]
  }
 ],
 "metadata": {
  "kernelspec": {
   "display_name": "Python 3 (ipykernel)",
   "language": "python",
   "name": "python3"
  },
  "language_info": {
   "codemirror_mode": {
    "name": "ipython",
    "version": 3
   },
   "file_extension": ".py",
   "mimetype": "text/x-python",
   "name": "python",
   "nbconvert_exporter": "python",
   "pygments_lexer": "ipython3",
   "version": "3.8.8"
  }
 },
 "nbformat": 4,
 "nbformat_minor": 5
}
